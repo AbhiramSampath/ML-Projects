{
  "nbformat": 4,
  "nbformat_minor": 0,
  "metadata": {
    "colab": {
      "provenance": [],
      "authorship_tag": "ABX9TyMA+tJ3FDzm17xJ+grYUuOB",
      "include_colab_link": true
    },
    "kernelspec": {
      "name": "python3",
      "display_name": "Python 3"
    },
    "language_info": {
      "name": "python"
    }
  },
  "cells": [
    {
      "cell_type": "markdown",
      "metadata": {
        "id": "view-in-github",
        "colab_type": "text"
      },
      "source": [
        "<a href=\"https://colab.research.google.com/github/AbhiramSampath/ML-Projects/blob/main/Lasso_Regression.ipynb\" target=\"_parent\"><img src=\"https://colab.research.google.com/assets/colab-badge.svg\" alt=\"Open In Colab\"/></a>"
      ]
    },
    {
      "cell_type": "code",
      "execution_count": 1,
      "metadata": {
        "id": "KLz7GjaiC9C-"
      },
      "outputs": [],
      "source": [
        "import numpy as np"
      ]
    },
    {
      "cell_type": "code",
      "source": [
        "class Lasso_Regression():\n",
        "\n",
        "  def __init__(self , learning_rate , no_of_iterations ,lamda_parameter):\n",
        "\n",
        "    self.learning_rate = learning_rate\n",
        "    self.no_of_iterations = no_of_iterations\n",
        "    self.lamda_parameter = lamda_parameter\n",
        "\n",
        "  def fit(self, X,Y):\n",
        "\n",
        "    self.m , self.n = X.shape\n",
        "\n",
        "    self.w  = np.zeros(self.n)\n",
        "    self.b = 0\n",
        "\n",
        "    self.X = X\n",
        "    self.Y = Y\n",
        "\n",
        "    for i in range(self.no_of_iterations):\n",
        "      self.update_weights()\n",
        "\n",
        "\n",
        "  def update_weights(self):\n",
        "\n",
        "    Y_prediction = self.predict(self.X)\n",
        "    dw = np.zeros(self.n)\n",
        "\n",
        "    for i in range(self.n):\n",
        "\n",
        "\n",
        "      if self.w[i] > 0:\n",
        "         dw[i] = (-(2 * (self.X[:, i]).dot(self.Y - Y_prediction)) + self.lamda_parameter) / self.m\n",
        "      elif self.w[i] < 0:\n",
        "         dw[i] = (-(2 * (self.X[:, i]).dot(self.Y - Y_prediction)) - self.lamda_parameter) / self.m\n",
        "      else:\n",
        "        dw[i] = (-(2 * (self.X[:, i]).dot(self.Y - Y_prediction))) / self.m\n",
        "\n",
        "    db = - 2 * np.sum(self.Y  - Y_prediction) / self.m\n",
        "    self.w = self.w - self.learning_rate*dw\n",
        "    self.b = self.b - self.learning_rate*db\n",
        "\n",
        "  def predict(self,X):\n",
        "\n",
        "    return np.dot(X, self.w) + self.b\n",
        "\n",
        ""
      ],
      "metadata": {
        "id": "WkoDaRMXVpDN"
      },
      "execution_count": 2,
      "outputs": []
    }
  ]
}